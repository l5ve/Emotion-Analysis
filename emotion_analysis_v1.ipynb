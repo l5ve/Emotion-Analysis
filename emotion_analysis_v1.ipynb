{
 "cells": [
  {
   "cell_type": "code",
   "execution_count": 1,
   "metadata": {},
   "outputs": [
    {
     "name": "stderr",
     "output_type": "stream",
     "text": [
      "[nltk_data] Downloading package stopwords to\n",
      "[nltk_data]     C:\\Users\\ju907\\AppData\\Roaming\\nltk_data...\n",
      "[nltk_data]   Package stopwords is already up-to-date!\n",
      "[nltk_data] Downloading package wordnet to\n",
      "[nltk_data]     C:\\Users\\ju907\\AppData\\Roaming\\nltk_data...\n",
      "[nltk_data]   Package wordnet is already up-to-date!\n"
     ]
    }
   ],
   "source": [
    "# Import libraries\n",
    "import re\n",
    "import pandas as pd\n",
    "import numpy as np\n",
    "from collections import defaultdict\n",
    "\n",
    "# Set Pandas to disply all rows of dataframes\n",
    "pd.set_option('display.max_rows',500)\n",
    "\n",
    "# nltk\n",
    "import nltk\n",
    "nltk.download('stopwords')\n",
    "nltk.download('wordnet')\n",
    "\n",
    "from nltk.corpus import stopwords \n",
    "from nltk.stem import WordNetLemmatizer\n",
    "from nltk.tokenize import word_tokenize\n",
    "from nltk.tokenize import RegexpTokenizer\n",
    "\n",
    "import warnings\n",
    "warnings.filterwarnings(\"ignore\", category=DeprecationWarning)\n"
   ]
  },
  {
   "cell_type": "code",
   "execution_count": 2,
   "metadata": {},
   "outputs": [
    {
     "name": "stdout",
     "output_type": "stream",
     "text": [
      "4\n"
     ]
    }
   ],
   "source": [
    "# For implementation of parallelization\n",
    "\n",
    "import multiprocessing\n",
    "from joblib import Parallel, delayed\n",
    "import time\n",
    "\n",
    "num_cores = multiprocessing.cpu_count()\n",
    "print(num_cores)"
   ]
  },
  {
   "cell_type": "code",
   "execution_count": 3,
   "metadata": {
    "scrolled": true
   },
   "outputs": [],
   "source": [
    "def preprocessing(text):\n",
    "    \n",
    "    \"\"\"\n",
    "    Make string(lyric) to list(words of lyric) after some processes.\n",
    "    \n",
    "    Args: \n",
    "        text (str): raw lyric of a song\n",
    "    Returns:\n",
    "        tokens (list): words list that make up the lyric.\n",
    "    \n",
    "    \"\"\"\n",
    "   \n",
    "    # tokenize into words\n",
    "    tokenizer = RegexpTokenizer(\"[\\w]+\")\n",
    "    tokens = tokenizer.tokenize(text)\n",
    "    \n",
    "    # lower capitalization\n",
    "    tokens = [word.lower() for word in tokens]\n",
    "    \n",
    "    # remove stopwords\n",
    "    stop = stopwords.words('english')\n",
    "    tokens = [token for token in tokens if token not in stop]\n",
    "    \n",
    "    # lemmatization\n",
    "    lmtzr = WordNetLemmatizer()\n",
    "    tokens = [lmtzr.lemmatize(word) for word in tokens]\n",
    "    tokens = [lmtzr.lemmatize(word, 'v') for word in tokens]\n",
    "  \n",
    "          \n",
    "    return tokens"
   ]
  },
  {
   "cell_type": "code",
   "execution_count": 4,
   "metadata": {},
   "outputs": [],
   "source": [
    "def lyric_dic(t_list):\n",
    "    \n",
    "    \"\"\"\n",
    "    Make word-list to word-dictionary.\n",
    "    \n",
    "    Args:\n",
    "        t_list(list) : list of words.\n",
    "    Returns:\n",
    "        dic(dic) : dictionary of words\n",
    "    \n",
    "    \"\"\"\n",
    "    dic = {}\n",
    "    for i in t_list:\n",
    "        if i in dic:\n",
    "            dic[i]+=1\n",
    "        else:\n",
    "            dic[i]=1\n",
    "            \n",
    "    return dic"
   ]
  },
  {
   "cell_type": "code",
   "execution_count": 10,
   "metadata": {},
   "outputs": [],
   "source": [
    "def making_song_dic(data):\n",
    "   \n",
    "    \n",
    "    \"\"\"\n",
    "    Make dictionary of songs from song data.\n",
    "    \n",
    "    Args: \n",
    "        data(pandas.core.frame.DataFrame): dataframe which contains informataions of songs\n",
    "    Returns:\n",
    "        Song_dictionary(dic):\n",
    "    \"\"\"\n",
    "    \n",
    "    \n",
    "    Song_dictionary={}\n",
    "    for i,song in data.iterrows():\n",
    "        key = song['title']\n",
    "        print(key,\"-\",song['artist'], \" preprocessing...\")\n",
    "        Song_dictionary[key] = {'title':key,\n",
    "                                'artist': song['artist'],\n",
    "                                'lyric': lyric_dic(preprocessing(song['lyric'])) ,\n",
    "                                'sentiment': {'Positive':0,'Negative':0,'Anger':0,'Anticipation':0,'Disgust':0,'Fear':0,'Joy':0,'Sadness':0,'Surprise':0,'Trust':0},\n",
    "                                 'dominant_emo': None\n",
    "                               }\n",
    "        \n",
    "       \n",
    "        '''\n",
    "        Song_dictionary[key] = {'artist': song['artist'],\n",
    "                                'lyric': lyric_dic(preprocessing(song['lyric'])) ,\n",
    "                                'sentiment': {'Positive':0,'Negative':0,'Anger':0,'Anticipation':0,'Disgust':0,'Fear':0,'Joy':0,'Sadness':0,'Surprise':0,'Trust':0},\n",
    "                                'years': song['years'],\n",
    "                                'duration': song['duration'],\n",
    "                                'dominant_emo': None}\n",
    "        '''\n",
    "        \n",
    "  \n",
    "    return Song_dictionary "
   ]
  },
  {
   "cell_type": "code",
   "execution_count": 11,
   "metadata": {},
   "outputs": [],
   "source": [
    "def sentiment_analysis(song,emotion_words):\n",
    "\n",
    "   \n",
    "   \"\"\"\n",
    "   Sentiment(emotion) analysis for a song.\n",
    "   \n",
    "   Args: song(dictionary) : dicionary for all informations of a song\n",
    "         emotion_words(pandas.core.frame.DataFrame): dataframe of NRC-Emotion-lexicon \n",
    "         \n",
    "   \n",
    "   \n",
    "   \"\"\"\n",
    "   print(song['title'], 'is being analyzed ...') \n",
    "   for key,val in song['lyric'].items() :\n",
    "        for i, row in emotion_words.iterrows():\n",
    "            if key == row['Words']:\n",
    "                for j in ['Positive','Negative','Anger','Anticipation','Disgust','Fear','Joy','Sadness','Surprise','Trust']:\n",
    "                    if row[j] == 1:\n",
    "                         song['sentiment'][j]+=val  \n",
    "                            \n",
    "                            \n",
    "   # set dominant sentiment\n",
    "\n",
    "   max = 0\n",
    "   for i in ['Anger','Anticipation','Disgust','Fear','Joy','Sadness','Surprise','Trust']:\n",
    "        if song['sentiment'][i]>max:\n",
    "            max = song['sentiment'][i]\n",
    "            dominant_emotion = i\n",
    "   song['dominant_emo'] = dominant_emotion"
   ]
  },
  {
   "cell_type": "code",
   "execution_count": 12,
   "metadata": {},
   "outputs": [
    {
     "name": "stdout",
     "output_type": "stream",
     "text": [
      "A Lot - 21 Savage  preprocessing...\n",
      "ME! - Taylor Swift Featuring Brendon Urie  preprocessing...\n",
      "A Lot is being analyzed ...\n",
      "A Lot - 21 Savage :  Surprise\n",
      "ME! is being analyzed ...\n",
      "ME! - Taylor Swift Featuring Brendon Urie :  Joy\n",
      "time : 205.11143684387207\n"
     ]
    }
   ],
   "source": [
    "# Import selected data\n",
    "data = pd.read_excel(\"data/2019_data.xlsx\")\n",
    "\n",
    "# Import NRC-EmotiON_Lexicon\n",
    "emotion_words = pd.read_csv(\"data/NRC-Emotion-Lexicon.csv\")\n",
    "\n",
    "# Drop the rows that at least one element is NAN\n",
    "data = data.dropna(axis=0)\n",
    "\n",
    "# It takes too much time to analysis I split data --> I have to find a solution for this\n",
    "data = data.loc[40:41]\n",
    "\n",
    "# test_lyric = test_lyric.dropna(how='all')\n",
    "# test_lyric = test_lyric['lyric'].dropna(inplace=True)\n",
    "\n",
    "# Making song_dic which contains all informations of every song\n",
    "song_dic = making_song_dic(data)\n",
    "#print(song_dic)\n",
    "\n",
    "\n",
    "# Doing sentiment(emotion) analysis\n",
    "start = time.time()\n",
    "for key,val in song_dic.items():\n",
    "    sentiment_analysis(val,emotion_words)\n",
    "    print(key,\"-\",val['artist'],\": \", val['dominant_emo'])\n",
    "print(\"time :\", time.time() - start)\n",
    "\n"
   ]
  },
  {
   "cell_type": "code",
   "execution_count": null,
   "metadata": {},
   "outputs": [],
   "source": []
  }
 ],
 "metadata": {
  "kernelspec": {
   "display_name": "Python 3",
   "language": "python",
   "name": "python3"
  },
  "language_info": {
   "codemirror_mode": {
    "name": "ipython",
    "version": 3
   },
   "file_extension": ".py",
   "mimetype": "text/x-python",
   "name": "python",
   "nbconvert_exporter": "python",
   "pygments_lexer": "ipython3",
   "version": "3.8.2"
  }
 },
 "nbformat": 4,
 "nbformat_minor": 4
}
